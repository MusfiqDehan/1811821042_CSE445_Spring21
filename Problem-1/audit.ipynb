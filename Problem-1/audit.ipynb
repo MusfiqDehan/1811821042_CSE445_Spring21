{
 "metadata": {
  "language_info": {
   "codemirror_mode": {
    "name": "ipython",
    "version": 3
   },
   "file_extension": ".py",
   "mimetype": "text/x-python",
   "name": "python",
   "nbconvert_exporter": "python",
   "pygments_lexer": "ipython3",
   "version": "3.8.5"
  },
  "orig_nbformat": 2,
  "kernelspec": {
   "name": "python385jvsc74a57bd031f2aee4e71d21fbe5cf8b01ff0e069b9275f58929596ceb00d14d90e3e16cd6",
   "display_name": "Python 3.8.5 64-bit"
  },
  "metadata": {
   "interpreter": {
    "hash": "31f2aee4e71d21fbe5cf8b01ff0e069b9275f58929596ceb00d14d90e3e16cd6"
   }
  }
 },
 "nbformat": 4,
 "nbformat_minor": 2,
 "cells": [
  {
   "source": [
    "# Problem -1 (Audit Task)"
   ],
   "cell_type": "markdown",
   "metadata": {}
  },
  {
   "cell_type": "code",
   "execution_count": 1,
   "metadata": {},
   "outputs": [],
   "source": [
    "import numpy as np \n",
    "import pandas as pd\n",
    "from sklearn.impute import SimpleImputer\n",
    "import matplotlib.pyplot as plt\n",
    "import seaborn as sns\n",
    "plt.style.use('ggplot')\n",
    "import warnings\n",
    "warnings.filterwarnings('ignore')\n",
    "%matplotlib inline"
   ]
  },
  {
   "cell_type": "code",
   "execution_count": 2,
   "metadata": {},
   "outputs": [],
   "source": [
    "df = pd.read_csv('audit_data/audit_risk.csv')"
   ]
  },
  {
   "cell_type": "code",
   "execution_count": 3,
   "metadata": {},
   "outputs": [
    {
     "output_type": "execute_result",
     "data": {
      "text/plain": [
       "   Sector_score LOCATION_ID  PARA_A  Score_A  Risk_A  PARA_B  Score_B  Risk_B  \\\n",
       "0          3.89          23    4.18      0.6   2.508    2.50      0.2   0.500   \n",
       "1          3.89           6    0.00      0.2   0.000    4.83      0.2   0.966   \n",
       "2          3.89           6    0.51      0.2   0.102    0.23      0.2   0.046   \n",
       "3          3.89           6    0.00      0.2   0.000   10.80      0.6   6.480   \n",
       "4          3.89           6    0.00      0.2   0.000    0.08      0.2   0.016   \n",
       "\n",
       "   TOTAL  numbers  ...  RiSk_E  History  Prob  Risk_F  Score  Inherent_Risk  \\\n",
       "0   6.68      5.0  ...     0.4        0   0.2     0.0    2.4          8.574   \n",
       "1   4.83      5.0  ...     0.4        0   0.2     0.0    2.0          2.554   \n",
       "2   0.74      5.0  ...     0.4        0   0.2     0.0    2.0          1.548   \n",
       "3  10.80      6.0  ...     0.4        0   0.2     0.0    4.4         17.530   \n",
       "4   0.08      5.0  ...     0.4        0   0.2     0.0    2.0          1.416   \n",
       "\n",
       "   CONTROL_RISK  Detection_Risk  Audit_Risk  Risk  \n",
       "0           0.4             0.5      1.7148     1  \n",
       "1           0.4             0.5      0.5108     0  \n",
       "2           0.4             0.5      0.3096     0  \n",
       "3           0.4             0.5      3.5060     1  \n",
       "4           0.4             0.5      0.2832     0  \n",
       "\n",
       "[5 rows x 27 columns]"
      ],
      "text/html": "<div>\n<style scoped>\n    .dataframe tbody tr th:only-of-type {\n        vertical-align: middle;\n    }\n\n    .dataframe tbody tr th {\n        vertical-align: top;\n    }\n\n    .dataframe thead th {\n        text-align: right;\n    }\n</style>\n<table border=\"1\" class=\"dataframe\">\n  <thead>\n    <tr style=\"text-align: right;\">\n      <th></th>\n      <th>Sector_score</th>\n      <th>LOCATION_ID</th>\n      <th>PARA_A</th>\n      <th>Score_A</th>\n      <th>Risk_A</th>\n      <th>PARA_B</th>\n      <th>Score_B</th>\n      <th>Risk_B</th>\n      <th>TOTAL</th>\n      <th>numbers</th>\n      <th>...</th>\n      <th>RiSk_E</th>\n      <th>History</th>\n      <th>Prob</th>\n      <th>Risk_F</th>\n      <th>Score</th>\n      <th>Inherent_Risk</th>\n      <th>CONTROL_RISK</th>\n      <th>Detection_Risk</th>\n      <th>Audit_Risk</th>\n      <th>Risk</th>\n    </tr>\n  </thead>\n  <tbody>\n    <tr>\n      <th>0</th>\n      <td>3.89</td>\n      <td>23</td>\n      <td>4.18</td>\n      <td>0.6</td>\n      <td>2.508</td>\n      <td>2.50</td>\n      <td>0.2</td>\n      <td>0.500</td>\n      <td>6.68</td>\n      <td>5.0</td>\n      <td>...</td>\n      <td>0.4</td>\n      <td>0</td>\n      <td>0.2</td>\n      <td>0.0</td>\n      <td>2.4</td>\n      <td>8.574</td>\n      <td>0.4</td>\n      <td>0.5</td>\n      <td>1.7148</td>\n      <td>1</td>\n    </tr>\n    <tr>\n      <th>1</th>\n      <td>3.89</td>\n      <td>6</td>\n      <td>0.00</td>\n      <td>0.2</td>\n      <td>0.000</td>\n      <td>4.83</td>\n      <td>0.2</td>\n      <td>0.966</td>\n      <td>4.83</td>\n      <td>5.0</td>\n      <td>...</td>\n      <td>0.4</td>\n      <td>0</td>\n      <td>0.2</td>\n      <td>0.0</td>\n      <td>2.0</td>\n      <td>2.554</td>\n      <td>0.4</td>\n      <td>0.5</td>\n      <td>0.5108</td>\n      <td>0</td>\n    </tr>\n    <tr>\n      <th>2</th>\n      <td>3.89</td>\n      <td>6</td>\n      <td>0.51</td>\n      <td>0.2</td>\n      <td>0.102</td>\n      <td>0.23</td>\n      <td>0.2</td>\n      <td>0.046</td>\n      <td>0.74</td>\n      <td>5.0</td>\n      <td>...</td>\n      <td>0.4</td>\n      <td>0</td>\n      <td>0.2</td>\n      <td>0.0</td>\n      <td>2.0</td>\n      <td>1.548</td>\n      <td>0.4</td>\n      <td>0.5</td>\n      <td>0.3096</td>\n      <td>0</td>\n    </tr>\n    <tr>\n      <th>3</th>\n      <td>3.89</td>\n      <td>6</td>\n      <td>0.00</td>\n      <td>0.2</td>\n      <td>0.000</td>\n      <td>10.80</td>\n      <td>0.6</td>\n      <td>6.480</td>\n      <td>10.80</td>\n      <td>6.0</td>\n      <td>...</td>\n      <td>0.4</td>\n      <td>0</td>\n      <td>0.2</td>\n      <td>0.0</td>\n      <td>4.4</td>\n      <td>17.530</td>\n      <td>0.4</td>\n      <td>0.5</td>\n      <td>3.5060</td>\n      <td>1</td>\n    </tr>\n    <tr>\n      <th>4</th>\n      <td>3.89</td>\n      <td>6</td>\n      <td>0.00</td>\n      <td>0.2</td>\n      <td>0.000</td>\n      <td>0.08</td>\n      <td>0.2</td>\n      <td>0.016</td>\n      <td>0.08</td>\n      <td>5.0</td>\n      <td>...</td>\n      <td>0.4</td>\n      <td>0</td>\n      <td>0.2</td>\n      <td>0.0</td>\n      <td>2.0</td>\n      <td>1.416</td>\n      <td>0.4</td>\n      <td>0.5</td>\n      <td>0.2832</td>\n      <td>0</td>\n    </tr>\n  </tbody>\n</table>\n<p>5 rows × 27 columns</p>\n</div>"
     },
     "metadata": {},
     "execution_count": 3
    }
   ],
   "source": [
    "df.head()"
   ]
  },
  {
   "cell_type": "code",
   "execution_count": 4,
   "metadata": {},
   "outputs": [
    {
     "output_type": "execute_result",
     "data": {
      "text/plain": [
       "(776, 27)"
      ]
     },
     "metadata": {},
     "execution_count": 4
    }
   ],
   "source": [
    "df.shape"
   ]
  },
  {
   "cell_type": "code",
   "execution_count": 5,
   "metadata": {},
   "outputs": [
    {
     "output_type": "stream",
     "name": "stdout",
     "text": [
      "<class 'pandas.core.frame.DataFrame'>\nRangeIndex: 776 entries, 0 to 775\nData columns (total 27 columns):\n #   Column          Non-Null Count  Dtype  \n---  ------          --------------  -----  \n 0   Sector_score    776 non-null    float64\n 1   LOCATION_ID     776 non-null    object \n 2   PARA_A          776 non-null    float64\n 3   Score_A         776 non-null    float64\n 4   Risk_A          776 non-null    float64\n 5   PARA_B          776 non-null    float64\n 6   Score_B         776 non-null    float64\n 7   Risk_B          776 non-null    float64\n 8   TOTAL           776 non-null    float64\n 9   numbers         776 non-null    float64\n 10  Score_B.1       776 non-null    float64\n 11  Risk_C          776 non-null    float64\n 12  Money_Value     775 non-null    float64\n 13  Score_MV        776 non-null    float64\n 14  Risk_D          776 non-null    float64\n 15  District_Loss   776 non-null    int64  \n 16  PROB            776 non-null    float64\n 17  RiSk_E          776 non-null    float64\n 18  History         776 non-null    int64  \n 19  Prob            776 non-null    float64\n 20  Risk_F          776 non-null    float64\n 21  Score           776 non-null    float64\n 22  Inherent_Risk   776 non-null    float64\n 23  CONTROL_RISK    776 non-null    float64\n 24  Detection_Risk  776 non-null    float64\n 25  Audit_Risk      776 non-null    float64\n 26  Risk            776 non-null    int64  \ndtypes: float64(23), int64(3), object(1)\nmemory usage: 163.8+ KB\n"
     ]
    }
   ],
   "source": [
    "df.info()"
   ]
  },
  {
   "cell_type": "code",
   "execution_count": 6,
   "metadata": {},
   "outputs": [
    {
     "output_type": "execute_result",
     "data": {
      "text/plain": [
       "       Sector_score      PARA_A     Score_A      Risk_A       PARA_B  \\\n",
       "count    776.000000  776.000000  776.000000  776.000000   776.000000   \n",
       "mean      20.184536    2.450194    0.351289    1.351029    10.799988   \n",
       "std       24.319017    5.678870    0.174055    3.440447    50.083624   \n",
       "min        1.850000    0.000000    0.200000    0.000000     0.000000   \n",
       "25%        2.370000    0.210000    0.200000    0.042000     0.000000   \n",
       "50%        3.890000    0.875000    0.200000    0.175000     0.405000   \n",
       "75%       55.570000    2.480000    0.600000    1.488000     4.160000   \n",
       "max       59.850000   85.000000    0.600000   51.000000  1264.630000   \n",
       "\n",
       "          Score_B      Risk_B        TOTAL     numbers   Score_B.1  ...  \\\n",
       "count  776.000000  776.000000   776.000000  776.000000  776.000000  ...   \n",
       "mean     0.313144    6.334008    13.218481    5.067655    0.223711  ...   \n",
       "std      0.169804   30.072845    51.312829    0.264449    0.080352  ...   \n",
       "min      0.200000    0.000000     0.000000    5.000000    0.200000  ...   \n",
       "25%      0.200000    0.000000     0.537500    5.000000    0.200000  ...   \n",
       "50%      0.200000    0.081000     1.370000    5.000000    0.200000  ...   \n",
       "75%      0.400000    1.840500     7.707500    5.000000    0.200000  ...   \n",
       "max      0.600000  758.778000  1268.910000    9.000000    0.600000  ...   \n",
       "\n",
       "           RiSk_E     History        Prob      Risk_F       Score  \\\n",
       "count  776.000000  776.000000  776.000000  776.000000  776.000000   \n",
       "mean     0.519072    0.104381    0.216753    0.053608    2.702577   \n",
       "std      0.290312    0.531031    0.067987    0.305835    0.858923   \n",
       "min      0.400000    0.000000    0.200000    0.000000    2.000000   \n",
       "25%      0.400000    0.000000    0.200000    0.000000    2.000000   \n",
       "50%      0.400000    0.000000    0.200000    0.000000    2.400000   \n",
       "75%      0.400000    0.000000    0.200000    0.000000    3.250000   \n",
       "max      2.400000    9.000000    0.600000    5.400000    5.200000   \n",
       "\n",
       "       Inherent_Risk  CONTROL_RISK  Detection_Risk  Audit_Risk        Risk  \n",
       "count     776.000000    776.000000           776.0  776.000000  776.000000  \n",
       "mean       17.680612      0.572680             0.5    7.168158    0.393041  \n",
       "std        54.740244      0.444581             0.0   38.667494    0.488741  \n",
       "min         1.400000      0.400000             0.5    0.280000    0.000000  \n",
       "25%         1.583500      0.400000             0.5    0.316700    0.000000  \n",
       "50%         2.214000      0.400000             0.5    0.555600    0.000000  \n",
       "75%        10.663500      0.400000             0.5    3.249900    1.000000  \n",
       "max       801.262000      5.800000             0.5  961.514400    1.000000  \n",
       "\n",
       "[8 rows x 26 columns]"
      ],
      "text/html": "<div>\n<style scoped>\n    .dataframe tbody tr th:only-of-type {\n        vertical-align: middle;\n    }\n\n    .dataframe tbody tr th {\n        vertical-align: top;\n    }\n\n    .dataframe thead th {\n        text-align: right;\n    }\n</style>\n<table border=\"1\" class=\"dataframe\">\n  <thead>\n    <tr style=\"text-align: right;\">\n      <th></th>\n      <th>Sector_score</th>\n      <th>PARA_A</th>\n      <th>Score_A</th>\n      <th>Risk_A</th>\n      <th>PARA_B</th>\n      <th>Score_B</th>\n      <th>Risk_B</th>\n      <th>TOTAL</th>\n      <th>numbers</th>\n      <th>Score_B.1</th>\n      <th>...</th>\n      <th>RiSk_E</th>\n      <th>History</th>\n      <th>Prob</th>\n      <th>Risk_F</th>\n      <th>Score</th>\n      <th>Inherent_Risk</th>\n      <th>CONTROL_RISK</th>\n      <th>Detection_Risk</th>\n      <th>Audit_Risk</th>\n      <th>Risk</th>\n    </tr>\n  </thead>\n  <tbody>\n    <tr>\n      <th>count</th>\n      <td>776.000000</td>\n      <td>776.000000</td>\n      <td>776.000000</td>\n      <td>776.000000</td>\n      <td>776.000000</td>\n      <td>776.000000</td>\n      <td>776.000000</td>\n      <td>776.000000</td>\n      <td>776.000000</td>\n      <td>776.000000</td>\n      <td>...</td>\n      <td>776.000000</td>\n      <td>776.000000</td>\n      <td>776.000000</td>\n      <td>776.000000</td>\n      <td>776.000000</td>\n      <td>776.000000</td>\n      <td>776.000000</td>\n      <td>776.0</td>\n      <td>776.000000</td>\n      <td>776.000000</td>\n    </tr>\n    <tr>\n      <th>mean</th>\n      <td>20.184536</td>\n      <td>2.450194</td>\n      <td>0.351289</td>\n      <td>1.351029</td>\n      <td>10.799988</td>\n      <td>0.313144</td>\n      <td>6.334008</td>\n      <td>13.218481</td>\n      <td>5.067655</td>\n      <td>0.223711</td>\n      <td>...</td>\n      <td>0.519072</td>\n      <td>0.104381</td>\n      <td>0.216753</td>\n      <td>0.053608</td>\n      <td>2.702577</td>\n      <td>17.680612</td>\n      <td>0.572680</td>\n      <td>0.5</td>\n      <td>7.168158</td>\n      <td>0.393041</td>\n    </tr>\n    <tr>\n      <th>std</th>\n      <td>24.319017</td>\n      <td>5.678870</td>\n      <td>0.174055</td>\n      <td>3.440447</td>\n      <td>50.083624</td>\n      <td>0.169804</td>\n      <td>30.072845</td>\n      <td>51.312829</td>\n      <td>0.264449</td>\n      <td>0.080352</td>\n      <td>...</td>\n      <td>0.290312</td>\n      <td>0.531031</td>\n      <td>0.067987</td>\n      <td>0.305835</td>\n      <td>0.858923</td>\n      <td>54.740244</td>\n      <td>0.444581</td>\n      <td>0.0</td>\n      <td>38.667494</td>\n      <td>0.488741</td>\n    </tr>\n    <tr>\n      <th>min</th>\n      <td>1.850000</td>\n      <td>0.000000</td>\n      <td>0.200000</td>\n      <td>0.000000</td>\n      <td>0.000000</td>\n      <td>0.200000</td>\n      <td>0.000000</td>\n      <td>0.000000</td>\n      <td>5.000000</td>\n      <td>0.200000</td>\n      <td>...</td>\n      <td>0.400000</td>\n      <td>0.000000</td>\n      <td>0.200000</td>\n      <td>0.000000</td>\n      <td>2.000000</td>\n      <td>1.400000</td>\n      <td>0.400000</td>\n      <td>0.5</td>\n      <td>0.280000</td>\n      <td>0.000000</td>\n    </tr>\n    <tr>\n      <th>25%</th>\n      <td>2.370000</td>\n      <td>0.210000</td>\n      <td>0.200000</td>\n      <td>0.042000</td>\n      <td>0.000000</td>\n      <td>0.200000</td>\n      <td>0.000000</td>\n      <td>0.537500</td>\n      <td>5.000000</td>\n      <td>0.200000</td>\n      <td>...</td>\n      <td>0.400000</td>\n      <td>0.000000</td>\n      <td>0.200000</td>\n      <td>0.000000</td>\n      <td>2.000000</td>\n      <td>1.583500</td>\n      <td>0.400000</td>\n      <td>0.5</td>\n      <td>0.316700</td>\n      <td>0.000000</td>\n    </tr>\n    <tr>\n      <th>50%</th>\n      <td>3.890000</td>\n      <td>0.875000</td>\n      <td>0.200000</td>\n      <td>0.175000</td>\n      <td>0.405000</td>\n      <td>0.200000</td>\n      <td>0.081000</td>\n      <td>1.370000</td>\n      <td>5.000000</td>\n      <td>0.200000</td>\n      <td>...</td>\n      <td>0.400000</td>\n      <td>0.000000</td>\n      <td>0.200000</td>\n      <td>0.000000</td>\n      <td>2.400000</td>\n      <td>2.214000</td>\n      <td>0.400000</td>\n      <td>0.5</td>\n      <td>0.555600</td>\n      <td>0.000000</td>\n    </tr>\n    <tr>\n      <th>75%</th>\n      <td>55.570000</td>\n      <td>2.480000</td>\n      <td>0.600000</td>\n      <td>1.488000</td>\n      <td>4.160000</td>\n      <td>0.400000</td>\n      <td>1.840500</td>\n      <td>7.707500</td>\n      <td>5.000000</td>\n      <td>0.200000</td>\n      <td>...</td>\n      <td>0.400000</td>\n      <td>0.000000</td>\n      <td>0.200000</td>\n      <td>0.000000</td>\n      <td>3.250000</td>\n      <td>10.663500</td>\n      <td>0.400000</td>\n      <td>0.5</td>\n      <td>3.249900</td>\n      <td>1.000000</td>\n    </tr>\n    <tr>\n      <th>max</th>\n      <td>59.850000</td>\n      <td>85.000000</td>\n      <td>0.600000</td>\n      <td>51.000000</td>\n      <td>1264.630000</td>\n      <td>0.600000</td>\n      <td>758.778000</td>\n      <td>1268.910000</td>\n      <td>9.000000</td>\n      <td>0.600000</td>\n      <td>...</td>\n      <td>2.400000</td>\n      <td>9.000000</td>\n      <td>0.600000</td>\n      <td>5.400000</td>\n      <td>5.200000</td>\n      <td>801.262000</td>\n      <td>5.800000</td>\n      <td>0.5</td>\n      <td>961.514400</td>\n      <td>1.000000</td>\n    </tr>\n  </tbody>\n</table>\n<p>8 rows × 26 columns</p>\n</div>"
     },
     "metadata": {},
     "execution_count": 6
    }
   ],
   "source": [
    "df.describe()"
   ]
  },
  {
   "cell_type": "code",
   "execution_count": 7,
   "metadata": {},
   "outputs": [
    {
     "output_type": "execute_result",
     "data": {
      "text/plain": [
       "   Sector_score LOCATION_ID  PARA_A  Score_A  Risk_A  PARA_B  Score_B  Risk_B  \\\n",
       "0          3.89          23    4.18      0.6   2.508    2.50      0.2   0.500   \n",
       "1          3.89           6    0.00      0.2   0.000    4.83      0.2   0.966   \n",
       "2          3.89           6    0.51      0.2   0.102    0.23      0.2   0.046   \n",
       "3          3.89           6    0.00      0.2   0.000   10.80      0.6   6.480   \n",
       "4          3.89           6    0.00      0.2   0.000    0.08      0.2   0.016   \n",
       "\n",
       "   TOTAL  numbers  ...  PROB  RiSk_E  History  Prob  Risk_F  Score  \\\n",
       "0   6.68      5.0  ...   0.2     0.4        0   0.2     0.0    2.4   \n",
       "1   4.83      5.0  ...   0.2     0.4        0   0.2     0.0    2.0   \n",
       "2   0.74      5.0  ...   0.2     0.4        0   0.2     0.0    2.0   \n",
       "3  10.80      6.0  ...   0.2     0.4        0   0.2     0.0    4.4   \n",
       "4   0.08      5.0  ...   0.2     0.4        0   0.2     0.0    2.0   \n",
       "\n",
       "   Inherent_Risk  CONTROL_RISK  Detection_Risk  Audit_Risk  \n",
       "0          8.574           0.4             0.5      1.7148  \n",
       "1          2.554           0.4             0.5      0.5108  \n",
       "2          1.548           0.4             0.5      0.3096  \n",
       "3         17.530           0.4             0.5      3.5060  \n",
       "4          1.416           0.4             0.5      0.2832  \n",
       "\n",
       "[5 rows x 26 columns]"
      ],
      "text/html": "<div>\n<style scoped>\n    .dataframe tbody tr th:only-of-type {\n        vertical-align: middle;\n    }\n\n    .dataframe tbody tr th {\n        vertical-align: top;\n    }\n\n    .dataframe thead th {\n        text-align: right;\n    }\n</style>\n<table border=\"1\" class=\"dataframe\">\n  <thead>\n    <tr style=\"text-align: right;\">\n      <th></th>\n      <th>Sector_score</th>\n      <th>LOCATION_ID</th>\n      <th>PARA_A</th>\n      <th>Score_A</th>\n      <th>Risk_A</th>\n      <th>PARA_B</th>\n      <th>Score_B</th>\n      <th>Risk_B</th>\n      <th>TOTAL</th>\n      <th>numbers</th>\n      <th>...</th>\n      <th>PROB</th>\n      <th>RiSk_E</th>\n      <th>History</th>\n      <th>Prob</th>\n      <th>Risk_F</th>\n      <th>Score</th>\n      <th>Inherent_Risk</th>\n      <th>CONTROL_RISK</th>\n      <th>Detection_Risk</th>\n      <th>Audit_Risk</th>\n    </tr>\n  </thead>\n  <tbody>\n    <tr>\n      <th>0</th>\n      <td>3.89</td>\n      <td>23</td>\n      <td>4.18</td>\n      <td>0.6</td>\n      <td>2.508</td>\n      <td>2.50</td>\n      <td>0.2</td>\n      <td>0.500</td>\n      <td>6.68</td>\n      <td>5.0</td>\n      <td>...</td>\n      <td>0.2</td>\n      <td>0.4</td>\n      <td>0</td>\n      <td>0.2</td>\n      <td>0.0</td>\n      <td>2.4</td>\n      <td>8.574</td>\n      <td>0.4</td>\n      <td>0.5</td>\n      <td>1.7148</td>\n    </tr>\n    <tr>\n      <th>1</th>\n      <td>3.89</td>\n      <td>6</td>\n      <td>0.00</td>\n      <td>0.2</td>\n      <td>0.000</td>\n      <td>4.83</td>\n      <td>0.2</td>\n      <td>0.966</td>\n      <td>4.83</td>\n      <td>5.0</td>\n      <td>...</td>\n      <td>0.2</td>\n      <td>0.4</td>\n      <td>0</td>\n      <td>0.2</td>\n      <td>0.0</td>\n      <td>2.0</td>\n      <td>2.554</td>\n      <td>0.4</td>\n      <td>0.5</td>\n      <td>0.5108</td>\n    </tr>\n    <tr>\n      <th>2</th>\n      <td>3.89</td>\n      <td>6</td>\n      <td>0.51</td>\n      <td>0.2</td>\n      <td>0.102</td>\n      <td>0.23</td>\n      <td>0.2</td>\n      <td>0.046</td>\n      <td>0.74</td>\n      <td>5.0</td>\n      <td>...</td>\n      <td>0.2</td>\n      <td>0.4</td>\n      <td>0</td>\n      <td>0.2</td>\n      <td>0.0</td>\n      <td>2.0</td>\n      <td>1.548</td>\n      <td>0.4</td>\n      <td>0.5</td>\n      <td>0.3096</td>\n    </tr>\n    <tr>\n      <th>3</th>\n      <td>3.89</td>\n      <td>6</td>\n      <td>0.00</td>\n      <td>0.2</td>\n      <td>0.000</td>\n      <td>10.80</td>\n      <td>0.6</td>\n      <td>6.480</td>\n      <td>10.80</td>\n      <td>6.0</td>\n      <td>...</td>\n      <td>0.2</td>\n      <td>0.4</td>\n      <td>0</td>\n      <td>0.2</td>\n      <td>0.0</td>\n      <td>4.4</td>\n      <td>17.530</td>\n      <td>0.4</td>\n      <td>0.5</td>\n      <td>3.5060</td>\n    </tr>\n    <tr>\n      <th>4</th>\n      <td>3.89</td>\n      <td>6</td>\n      <td>0.00</td>\n      <td>0.2</td>\n      <td>0.000</td>\n      <td>0.08</td>\n      <td>0.2</td>\n      <td>0.016</td>\n      <td>0.08</td>\n      <td>5.0</td>\n      <td>...</td>\n      <td>0.2</td>\n      <td>0.4</td>\n      <td>0</td>\n      <td>0.2</td>\n      <td>0.0</td>\n      <td>2.0</td>\n      <td>1.416</td>\n      <td>0.4</td>\n      <td>0.5</td>\n      <td>0.2832</td>\n    </tr>\n  </tbody>\n</table>\n<p>5 rows × 26 columns</p>\n</div>"
     },
     "metadata": {},
     "execution_count": 7
    }
   ],
   "source": [
    "# Getting independent features\n",
    "\n",
    "X = df.drop('Risk', axis=1)\n",
    "X.head()"
   ]
  },
  {
   "cell_type": "code",
   "execution_count": 8,
   "metadata": {},
   "outputs": [
    {
     "output_type": "execute_result",
     "data": {
      "text/plain": [
       "0    1\n",
       "1    0\n",
       "2    0\n",
       "3    1\n",
       "4    0\n",
       "Name: Risk, dtype: int64"
      ]
     },
     "metadata": {},
     "execution_count": 8
    }
   ],
   "source": [
    "# Getting Dependent vector\n",
    "\n",
    "Y = df.Risk\n",
    "Y.head()"
   ]
  },
  {
   "cell_type": "code",
   "execution_count": null,
   "metadata": {},
   "outputs": [],
   "source": [
    "df.nunique()"
   ]
  }
 ]
}