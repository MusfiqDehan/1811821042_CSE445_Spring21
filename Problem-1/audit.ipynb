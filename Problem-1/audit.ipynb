{
 "metadata": {
  "language_info": {
   "codemirror_mode": {
    "name": "ipython",
    "version": 3
   },
   "file_extension": ".py",
   "mimetype": "text/x-python",
   "name": "python",
   "nbconvert_exporter": "python",
   "pygments_lexer": "ipython3",
   "version": "3.8.5"
  },
  "orig_nbformat": 2,
  "kernelspec": {
   "name": "python385jvsc74a57bd031f2aee4e71d21fbe5cf8b01ff0e069b9275f58929596ceb00d14d90e3e16cd6",
   "display_name": "Python 3.8.5 64-bit"
  },
  "metadata": {
   "interpreter": {
    "hash": "31f2aee4e71d21fbe5cf8b01ff0e069b9275f58929596ceb00d14d90e3e16cd6"
   }
  }
 },
 "nbformat": 4,
 "nbformat_minor": 2,
 "cells": [
  {
   "source": [
    "# Problem -1 (Audit Task)"
   ],
   "cell_type": "markdown",
   "metadata": {}
  },
  {
   "cell_type": "code",
   "execution_count": 1,
   "metadata": {},
   "outputs": [],
   "source": [
    "import numpy as np \n",
    "import pandas as pd\n",
    "from sklearn.impute import SimpleImputer\n",
    "import matplotlib.pyplot as plt\n",
    "import seaborn as sns\n",
    "plt.style.use('ggplot')\n",
    "import warnings\n",
    "warnings.filterwarnings('ignore')\n",
    "%matplotlib inline"
   ]
  },
  {
   "cell_type": "code",
   "execution_count": 2,
   "metadata": {},
   "outputs": [],
   "source": [
    "df = pd.read_csv('audit_data/audit_risk.csv')"
   ]
  },
  {
   "cell_type": "code",
   "execution_count": 3,
   "metadata": {},
   "outputs": [
    {
     "output_type": "execute_result",
     "data": {
      "text/plain": [
       "   Sector_score LOCATION_ID  PARA_A  Score_A  Risk_A  PARA_B  Score_B  Risk_B  \\\n",
       "0          3.89          23    4.18      0.6   2.508    2.50      0.2   0.500   \n",
       "1          3.89           6    0.00      0.2   0.000    4.83      0.2   0.966   \n",
       "2          3.89           6    0.51      0.2   0.102    0.23      0.2   0.046   \n",
       "3          3.89           6    0.00      0.2   0.000   10.80      0.6   6.480   \n",
       "4          3.89           6    0.00      0.2   0.000    0.08      0.2   0.016   \n",
       "\n",
       "   TOTAL  numbers  ...  RiSk_E  History  Prob  Risk_F  Score  Inherent_Risk  \\\n",
       "0   6.68      5.0  ...     0.4        0   0.2     0.0    2.4          8.574   \n",
       "1   4.83      5.0  ...     0.4        0   0.2     0.0    2.0          2.554   \n",
       "2   0.74      5.0  ...     0.4        0   0.2     0.0    2.0          1.548   \n",
       "3  10.80      6.0  ...     0.4        0   0.2     0.0    4.4         17.530   \n",
       "4   0.08      5.0  ...     0.4        0   0.2     0.0    2.0          1.416   \n",
       "\n",
       "   CONTROL_RISK  Detection_Risk  Audit_Risk  Risk  \n",
       "0           0.4             0.5      1.7148     1  \n",
       "1           0.4             0.5      0.5108     0  \n",
       "2           0.4             0.5      0.3096     0  \n",
       "3           0.4             0.5      3.5060     1  \n",
       "4           0.4             0.5      0.2832     0  \n",
       "\n",
       "[5 rows x 27 columns]"
      ],
      "text/html": "<div>\n<style scoped>\n    .dataframe tbody tr th:only-of-type {\n        vertical-align: middle;\n    }\n\n    .dataframe tbody tr th {\n        vertical-align: top;\n    }\n\n    .dataframe thead th {\n        text-align: right;\n    }\n</style>\n<table border=\"1\" class=\"dataframe\">\n  <thead>\n    <tr style=\"text-align: right;\">\n      <th></th>\n      <th>Sector_score</th>\n      <th>LOCATION_ID</th>\n      <th>PARA_A</th>\n      <th>Score_A</th>\n      <th>Risk_A</th>\n      <th>PARA_B</th>\n      <th>Score_B</th>\n      <th>Risk_B</th>\n      <th>TOTAL</th>\n      <th>numbers</th>\n      <th>...</th>\n      <th>RiSk_E</th>\n      <th>History</th>\n      <th>Prob</th>\n      <th>Risk_F</th>\n      <th>Score</th>\n      <th>Inherent_Risk</th>\n      <th>CONTROL_RISK</th>\n      <th>Detection_Risk</th>\n      <th>Audit_Risk</th>\n      <th>Risk</th>\n    </tr>\n  </thead>\n  <tbody>\n    <tr>\n      <th>0</th>\n      <td>3.89</td>\n      <td>23</td>\n      <td>4.18</td>\n      <td>0.6</td>\n      <td>2.508</td>\n      <td>2.50</td>\n      <td>0.2</td>\n      <td>0.500</td>\n      <td>6.68</td>\n      <td>5.0</td>\n      <td>...</td>\n      <td>0.4</td>\n      <td>0</td>\n      <td>0.2</td>\n      <td>0.0</td>\n      <td>2.4</td>\n      <td>8.574</td>\n      <td>0.4</td>\n      <td>0.5</td>\n      <td>1.7148</td>\n      <td>1</td>\n    </tr>\n    <tr>\n      <th>1</th>\n      <td>3.89</td>\n      <td>6</td>\n      <td>0.00</td>\n      <td>0.2</td>\n      <td>0.000</td>\n      <td>4.83</td>\n      <td>0.2</td>\n      <td>0.966</td>\n      <td>4.83</td>\n      <td>5.0</td>\n      <td>...</td>\n      <td>0.4</td>\n      <td>0</td>\n      <td>0.2</td>\n      <td>0.0</td>\n      <td>2.0</td>\n      <td>2.554</td>\n      <td>0.4</td>\n      <td>0.5</td>\n      <td>0.5108</td>\n      <td>0</td>\n    </tr>\n    <tr>\n      <th>2</th>\n      <td>3.89</td>\n      <td>6</td>\n      <td>0.51</td>\n      <td>0.2</td>\n      <td>0.102</td>\n      <td>0.23</td>\n      <td>0.2</td>\n      <td>0.046</td>\n      <td>0.74</td>\n      <td>5.0</td>\n      <td>...</td>\n      <td>0.4</td>\n      <td>0</td>\n      <td>0.2</td>\n      <td>0.0</td>\n      <td>2.0</td>\n      <td>1.548</td>\n      <td>0.4</td>\n      <td>0.5</td>\n      <td>0.3096</td>\n      <td>0</td>\n    </tr>\n    <tr>\n      <th>3</th>\n      <td>3.89</td>\n      <td>6</td>\n      <td>0.00</td>\n      <td>0.2</td>\n      <td>0.000</td>\n      <td>10.80</td>\n      <td>0.6</td>\n      <td>6.480</td>\n      <td>10.80</td>\n      <td>6.0</td>\n      <td>...</td>\n      <td>0.4</td>\n      <td>0</td>\n      <td>0.2</td>\n      <td>0.0</td>\n      <td>4.4</td>\n      <td>17.530</td>\n      <td>0.4</td>\n      <td>0.5</td>\n      <td>3.5060</td>\n      <td>1</td>\n    </tr>\n    <tr>\n      <th>4</th>\n      <td>3.89</td>\n      <td>6</td>\n      <td>0.00</td>\n      <td>0.2</td>\n      <td>0.000</td>\n      <td>0.08</td>\n      <td>0.2</td>\n      <td>0.016</td>\n      <td>0.08</td>\n      <td>5.0</td>\n      <td>...</td>\n      <td>0.4</td>\n      <td>0</td>\n      <td>0.2</td>\n      <td>0.0</td>\n      <td>2.0</td>\n      <td>1.416</td>\n      <td>0.4</td>\n      <td>0.5</td>\n      <td>0.2832</td>\n      <td>0</td>\n    </tr>\n  </tbody>\n</table>\n<p>5 rows × 27 columns</p>\n</div>"
     },
     "metadata": {},
     "execution_count": 3
    }
   ],
   "source": [
    "df.head()"
   ]
  },
  {
   "cell_type": "code",
   "execution_count": 4,
   "metadata": {},
   "outputs": [
    {
     "output_type": "execute_result",
     "data": {
      "text/plain": [
       "(776, 27)"
      ]
     },
     "metadata": {},
     "execution_count": 4
    }
   ],
   "source": [
    "df.shape"
   ]
  },
  {
   "cell_type": "code",
   "execution_count": null,
   "metadata": {},
   "outputs": [],
   "source": []
  }
 ]
}